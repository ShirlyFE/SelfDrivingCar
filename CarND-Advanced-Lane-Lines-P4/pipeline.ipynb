{
 "cells": [
  {
   "cell_type": "markdown",
   "metadata": {},
   "source": [
    "Advanced lane finding pipeline\n",
    "===\n",
    "\n"
   ]
  },
  {
   "cell_type": "code",
   "execution_count": 1,
   "metadata": {
    "collapsed": false
   },
   "outputs": [],
   "source": [
    "import numpy as np\n",
    "import cv2\n",
    "import glob\n",
    "import pickle\n",
    "from moviepy.editor import VideoFileClip\n",
    "import matplotlib.pyplot as plt\n",
    "%matplotlib inline\n"
   ]
  },
  {
   "cell_type": "code",
   "execution_count": 2,
   "metadata": {
    "collapsed": true
   },
   "outputs": [],
   "source": [
    "def compute_camera_calibration_matrix(save_images=0):\n",
    "    '''Compute the camera calibration matrix and distortion coefficients given a set of chessboard images.\n",
    "    '''\n",
    "    # prepare object points, like (0,0,0), (1,0,0), (2,0,0) ....,(6,5,0)\n",
    "    objp = np.zeros((6*9,3), np.float32)\n",
    "    objp[:,:2] = np.mgrid[0:9, 0:6].T.reshape(-1,2)\n",
    "\n",
    "    # Arrays to store object points and image points from all the images.\n",
    "    objpoints = [] # 3d points in real world space\n",
    "    imgpoints = [] # 2d points in image plane.\n",
    "\n",
    "    # Make a list of calibration images\n",
    "    images = glob.glob('camera_cal/calibration*.jpg')\n",
    "\n",
    "    # Step through the list and search for chessboard corners\n",
    "    for idx, fname in enumerate(images):\n",
    "        img = cv2.imread(fname)\n",
    "        gray = cv2.cvtColor(img, cv2.COLOR_BGR2GRAY)\n",
    "\n",
    "        # Find the chessboard corners\n",
    "        ret, corners = cv2.findChessboardCorners(gray, (9,6), None)\n",
    "\n",
    "        # If found, add object points, image points\n",
    "        if ret == True:\n",
    "            objpoints.append(objp)\n",
    "            imgpoints.append(corners)\n",
    "            if save_images:\n",
    "                # Draw and display the corners\n",
    "                cv2.drawChessboardCorners(img, (9,6), corners, ret)\n",
    "                cv2.imwrite(\"output_images/corners_found_{}\".format(fname.split(\"/\")[-1]), img)\n",
    "    return (objpoints, imgpoints)\n"
   ]
  },
  {
   "cell_type": "code",
   "execution_count": 3,
   "metadata": {
    "collapsed": true
   },
   "outputs": [],
   "source": [
    "def undistort_camera_image(objpoints, imgpoints, img, fname='', save_images=0):\n",
    "    '''Apply a distortion correction to raw images.\n",
    "    '''\n",
    "    # Test undistortion on an image\n",
    "    img_size = (img.shape[1], img.shape[0])\n",
    "    # Do camera calibration given object points and image points\n",
    "    ret, mtx, dist, rvecs, tvecs = cv2.calibrateCamera(objpoints, imgpoints, img_size, None, None)\n",
    "    dst = cv2.undistort(img, mtx, dist, None, mtx)\n",
    "    if save_images:\n",
    "        write_name = 'output_images/undist_'+fname\n",
    "        cv2.imwrite(write_name, img)\n",
    "\n",
    "    return dst\n"
   ]
  },
  {
   "cell_type": "code",
   "execution_count": 4,
   "metadata": {
    "collapsed": true
   },
   "outputs": [],
   "source": [
    "def region_of_interest(img, vertices, fname='', save_images=0):\n",
    "    \"\"\"\n",
    "    Applies an image mask.\n",
    "    Only keeps the region of the image defined by the polygon\n",
    "    formed from `vertices`. The rest of the image is set to black.\n",
    "    \"\"\"\n",
    "    #defining a blank mask to start with\n",
    "    mask = np.zeros_like(img)   \n",
    "    \n",
    "    #defining a 3 channel or 1 channel color to fill the mask with depending on the input image\n",
    "    if len(img.shape) > 2:\n",
    "        channel_count = img.shape[2]  # i.e. 3 or 4 depending on your image\n",
    "        ignore_mask_color = (255,) * channel_count\n",
    "    else:\n",
    "        ignore_mask_color = 255\n",
    "        \n",
    "    #filling pixels inside the polygon defined by \"vertices\" with the fill color    \n",
    "    cv2.fillPoly(mask, vertices, ignore_mask_color)\n",
    "    \n",
    "    #returning the image only where mask pixels are nonzero\n",
    "    masked_image = cv2.bitwise_and(img, mask)\n",
    "    if save_images:\n",
    "        plt.imsave(\"output_images/masked_cmb_{}\".format(fname.split(\"/\")[-1]), masked_image)\n",
    "    return masked_image"
   ]
  },
  {
   "cell_type": "code",
   "execution_count": 5,
   "metadata": {
    "collapsed": true
   },
   "outputs": [],
   "source": [
    "def generate_threshold_binary_image(img, s_thresh=(170, 255), sx_thresh=(20, 100), fname='', save_images=0): \n",
    "    '''Use color transforms, gradients, etc., to create a thresholded binary image.\n",
    "    '''\n",
    "    img = np.copy(img)\n",
    "    # Convert to HSV color space and separate the V channel\n",
    "    hsv = cv2.cvtColor(img, cv2.COLOR_RGB2HLS).astype(np.float)\n",
    "    l_channel = hsv[:,:,1]\n",
    "    s_channel = hsv[:,:,2]\n",
    "    # Sobel x\n",
    "    sobelx = cv2.Sobel(l_channel, cv2.CV_64F, 1, 0) # Take the derivative in x\n",
    "    abs_sobelx = np.absolute(sobelx) # Absolute x derivative to accentuate lines away from horizontal\n",
    "    scaled_sobel = np.uint8(255*abs_sobelx/np.max(abs_sobelx))\n",
    "    # Threshold x gradient\n",
    "    sxbinary = np.zeros_like(scaled_sobel)\n",
    "    sxbinary[(scaled_sobel >= sx_thresh[0]) & (scaled_sobel <= sx_thresh[1])] = 1\n",
    "    # Threshold color channel\n",
    "    s_binary = np.zeros_like(s_channel)\n",
    "    s_binary[(s_channel >= s_thresh[0]) & (s_channel <= s_thresh[1])] = 1\n",
    "    # Stack each channel\n",
    "    # Note color_binary[:, :, 0] is all 0s, effectively an all black image. It might\n",
    "    # be beneficial to replace this channel with something else.\n",
    "    color_binary = np.dstack(( np.zeros_like(sxbinary), sxbinary, s_binary))\n",
    "    \n",
    "    # Combine the two binary thresholds\n",
    "    combined_binary = np.zeros_like(sxbinary)\n",
    "    combined_binary[(s_binary == 1) | (sxbinary == 1)] = 1\n",
    "    \n",
    "    if save_images:\n",
    "        cv2.imwrite(\"output_images/cb_{}\".format(fname.split(\"/\")[-1]), color_binary*255)\n",
    "        cv2.imwrite(\"output_images/cmb_{}\".format(fname.split(\"/\")[-1]), combined_binary*255)\n",
    "        cv2.imwrite(\"output_images/sb_{}\".format(fname.split(\"/\")[-1]), s_binary*255)\n",
    "        cv2.imwrite(\"output_images/sxb_{}\".format(fname.split(\"/\")[-1]), sxbinary*255)\n",
    "    \n",
    "\n",
    "    return (color_binary, combined_binary, s_binary, sxbinary)\n"
   ]
  },
  {
   "cell_type": "code",
   "execution_count": 6,
   "metadata": {
    "collapsed": true
   },
   "outputs": [],
   "source": [
    "def get_warp_matrix(img, save_images=0):\n",
    "    \n",
    "    img_size = (img.shape[1], img.shape[0])\n",
    "\n",
    "    src = np.float32(\n",
    "    [[(img_size[0] / 2) - 55, img_size[1] / 2 + 100],\n",
    "    [((img_size[0] / 6) - 10), img_size[1]],\n",
    "    [(img_size[0] * 5 / 6) + 60, img_size[1]],\n",
    "    [(img_size[0] / 2 + 55), img_size[1] / 2 + 100]])\n",
    "\n",
    "    dst = np.float32(\n",
    "    [[(img_size[0] / 4), 0],\n",
    "    [(img_size[0] / 4), img_size[1]],\n",
    "    [(img_size[0] * 3 / 4), img_size[1]],\n",
    "    [(img_size[0] * 3 / 4), 0]])\n",
    "\n",
    "    #Compute perspective warp matrix\n",
    "    M = cv2.getPerspectiveTransform(src, dst)\n",
    "\n",
    "    #Compute the inverse perspective transform\n",
    "    Minv = cv2.getPerspectiveTransform(dst, src)\n",
    "    if save_images:\n",
    "        #cv2.line(img, src[0], src[1],\"red\")\n",
    "        print(src)\n",
    "        cv2.polylines(img, np.int32([src]), True, (0,0,255), thickness=1, lineType=8, shift=0)\n",
    "        cv2.imwrite(\"output_images/perspective_original.jpg\", img)\n",
    "        warped=cv2.warpPerspective(img, M, img_size, flags=cv2.INTER_LINEAR)\n",
    "        cv2.imwrite(\"output_images/perspective_warped.jpg\", warped)\n",
    "\n",
    "    return (M, Minv)"
   ]
  },
  {
   "cell_type": "code",
   "execution_count": 7,
   "metadata": {
    "collapsed": true
   },
   "outputs": [],
   "source": [
    "def apply_perspective_transform(img, warp_matrix, fname='', save_images=0):\n",
    "    '''Apply a perspective transform to rectify binary image (\"birds-eye view\").\n",
    "    '''    \n",
    "    img_size = (img.shape[1], img.shape[0])\n",
    "    warped = cv2.warpPerspective(img, warp_matrix, img_size, flags=cv2.INTER_LINEAR)\n",
    "    if save_images:\n",
    "        plt.imsave(\"output_images/warped_{}\".format(fname.split(\"/\")[-1]), warped)    \n",
    "    return warped"
   ]
  },
  {
   "cell_type": "code",
   "execution_count": 8,
   "metadata": {
    "collapsed": true
   },
   "outputs": [],
   "source": [
    "#Detect lane pixels and fit to find the lane boundary.\n",
    "def detect_lanes_from_scratch(binary_warped, fname='', save_images=0):\n",
    "    print(\"Brute force\")\n",
    "    # Assuming you have created a warped binary image called \"binary_warped\"\n",
    "    # Take a histogram of the bottom half of the image\n",
    "    histogram = np.sum(binary_warped[binary_warped.shape[0]/2:,:], axis=0)\n",
    "    # Create an output image to draw on and  visualize the result\n",
    "    out_img = np.dstack((binary_warped, binary_warped, binary_warped))*255\n",
    "    # Find the peak of the left and right halves of the histogram\n",
    "    # These will be the starting point for the left and right lines\n",
    "    midpoint = np.int(histogram.shape[0]/2)\n",
    "    leftx_base = np.argmax(histogram[:midpoint])\n",
    "    rightx_base = np.argmax(histogram[midpoint:]) + midpoint\n",
    "\n",
    "    # Choose the number of sliding windows\n",
    "    nwindows = 10\n",
    "    # Set height of windows\n",
    "    window_height = np.int(binary_warped.shape[0]/nwindows)\n",
    "    # Identify the x and y positions of all nonzero pixels in the image\n",
    "    nonzero = binary_warped.nonzero()\n",
    "    nonzeroy = np.array(nonzero[0])\n",
    "    nonzerox = np.array(nonzero[1])\n",
    "    # Current positions to be updated for each window\n",
    "    leftx_current = leftx_base\n",
    "    rightx_current = rightx_base\n",
    "    # Set the width of the windows +/- margin\n",
    "    margin = 100\n",
    "    # Set minimum number of pixels found to recenter window\n",
    "    minpix = 50\n",
    "    # Create empty lists to receive left and right lane pixel indices\n",
    "    left_lane_inds = []\n",
    "    right_lane_inds = []\n",
    "\n",
    "    # Step through the windows one by one\n",
    "    for window in range(nwindows):\n",
    "        # Identify window boundaries in x and y (and right and left)\n",
    "        win_y_low = binary_warped.shape[0] - (window+1)*window_height\n",
    "        win_y_high = binary_warped.shape[0] - window*window_height\n",
    "        win_xleft_low = leftx_current - margin\n",
    "        win_xleft_high = leftx_current + margin\n",
    "        win_xright_low = rightx_current - margin\n",
    "        win_xright_high = rightx_current + margin\n",
    "        # Draw the windows on the visualization image\n",
    "        cv2.rectangle(out_img,(win_xleft_low,win_y_low),(win_xleft_high,win_y_high),(0,255,0), 2) \n",
    "        cv2.rectangle(out_img,(win_xright_low,win_y_low),(win_xright_high,win_y_high),(0,255,0), 2) \n",
    "        # Identify the nonzero pixels in x and y within the window\n",
    "        good_left_inds = ((nonzeroy >= win_y_low) & (nonzeroy < win_y_high) & (nonzerox >= win_xleft_low) & (nonzerox < win_xleft_high)).nonzero()[0]\n",
    "        good_right_inds = ((nonzeroy >= win_y_low) & (nonzeroy < win_y_high) & (nonzerox >= win_xright_low) & (nonzerox < win_xright_high)).nonzero()[0]\n",
    "        # Append these indices to the lists\n",
    "        left_lane_inds.append(good_left_inds)\n",
    "        right_lane_inds.append(good_right_inds)\n",
    "        # If you found > minpix pixels, recenter next window on their mean position\n",
    "        if len(good_left_inds) > minpix:\n",
    "            leftx_current = np.int(np.mean(nonzerox[good_left_inds]))\n",
    "        if len(good_right_inds) > minpix:        \n",
    "            rightx_current = np.int(np.mean(nonzerox[good_right_inds]))\n",
    "        \n",
    "\n",
    "    # Concatenate the arrays of indices\n",
    "    left_lane_inds = np.concatenate(left_lane_inds)\n",
    "    right_lane_inds = np.concatenate(right_lane_inds)\n",
    "\n",
    "    # Extract left and right line pixel positions\n",
    "    leftx = nonzerox[left_lane_inds]\n",
    "    lefty = nonzeroy[left_lane_inds] \n",
    "    rightx = nonzerox[right_lane_inds]\n",
    "    righty = nonzeroy[right_lane_inds] \n",
    "\n",
    "    # Fit a second order polynomial to each\n",
    "    left_fit = np.polyfit(lefty, leftx, 2)\n",
    "    right_fit = np.polyfit(righty, rightx, 2)\n",
    "    \n",
    "    # Generate x and y values for plotting\n",
    "    ploty = np.linspace(0, binary_warped.shape[0]-1, binary_warped.shape[0] )\n",
    "    left_fitx = left_fit[0]*ploty**2 + left_fit[1]*ploty + left_fit[2]\n",
    "    right_fitx = right_fit[0]*ploty**2 + right_fit[1]*ploty + right_fit[2]\n",
    "    \n",
    "    #determine curvature\n",
    "    left_curverad, right_curverad=determine_curvature (ploty, leftx, lefty, rightx, righty)\n",
    "    \n",
    "    if save_images:\n",
    "        out_img[nonzeroy[left_lane_inds], nonzerox[left_lane_inds]] = [255, 0, 0]\n",
    "        out_img[nonzeroy[right_lane_inds], nonzerox[right_lane_inds]] = [0, 255, 0]\n",
    "        plt.plot(left_fitx, ploty, color='yellow')\n",
    "        plt.plot(right_fitx, ploty, color='yellow')\n",
    "        plt.xlim(0, 1280)\n",
    "        plt.ylim(720, 0)\n",
    "        plt.imshow(out_img)\n",
    "        cv2.imwrite(\"output_images/detect_lane_{}\".format(fname.split(\"/\")[-1]), out_img)\n",
    "    return (ploty, left_curverad, right_curverad, left_fit, right_fit)"
   ]
  },
  {
   "cell_type": "code",
   "execution_count": 9,
   "metadata": {
    "collapsed": true
   },
   "outputs": [],
   "source": [
    "def detect_lanes_using_previous_lane_values(binary_warped, est_left_fit, est_right_fit, fname='', save_images=0):\n",
    "    # Assume you now have a new warped binary image \n",
    "    # from the next frame of video (also called \"binary_warped\")\n",
    "    # It's now much easier to find line pixels!\n",
    "\n",
    "    if est_left_fit is None or est_right_fit is None:\n",
    "        return detect_lanes_from_scratch(binary_warped, fname=fname, save_images=save_images)\n",
    "\n",
    "    nonzero = binary_warped.nonzero()\n",
    "    nonzeroy = np.array(nonzero[0])\n",
    "    nonzerox = np.array(nonzero[1])\n",
    "    margin = 100\n",
    "\n",
    "    est_nonzerox_upper = est_left_fit[0]*(nonzeroy**2) + est_left_fit[1]*nonzeroy + est_left_fit[2] + margin\n",
    "    est_nonzerox_lower = est_left_fit[0]*(nonzeroy**2) + est_left_fit[1]*nonzeroy + est_left_fit[2] - margin\n",
    "\n",
    "   \n",
    "\n",
    "    left_lane_inds = ((nonzerox >= (est_left_fit[0]*(nonzeroy**2) + est_left_fit[1]*nonzeroy + est_left_fit[2]- margin)) \n",
    "                    & (nonzerox < (est_left_fit[0]*(nonzeroy**2) + est_left_fit[1]*nonzeroy + est_left_fit[2] + margin))).nonzero()[0] \n",
    "\n",
    "    right_lane_inds = ((nonzerox >= (est_right_fit[0]*(nonzeroy**2) + est_right_fit[1]*nonzeroy + est_right_fit[2] - margin)) \n",
    "                    & (nonzerox < (est_right_fit[0]*(nonzeroy**2) + est_right_fit[1]*nonzeroy + est_right_fit[2] + margin))).nonzero()[0]  \n",
    "\n",
    "    \n",
    "\n",
    "    # Again, extract left and right line pixel positions\n",
    "    leftx = nonzerox[left_lane_inds]\n",
    "    lefty = nonzeroy[left_lane_inds] \n",
    "    rightx = nonzerox[right_lane_inds]\n",
    "    righty = nonzeroy[right_lane_inds]\n",
    "\n",
    "\n",
    "    # Fit a second order polynomial to each\n",
    "    left_fit = np.polyfit(lefty, leftx, 2)\n",
    "    right_fit = np.polyfit(righty, rightx, 2)\n",
    "\n",
    "\n",
    "\n",
    "    delta_left_fit = np.sqrt((left_fit-est_left_fit)**2)\n",
    "    delta_right_fit = np.sqrt((right_fit-est_right_fit)**2)\n",
    "\n",
    "    if delta_left_fit[0] > 0.0005 or delta_right_fit[0] > 0.0005:\n",
    "        return detect_lanes_from_scratch(binary_warped, fname=fname, save_images=save_images)\n",
    "    # Generate x and y values for plotting\n",
    "    ploty = np.linspace(0, binary_warped.shape[0]-1, binary_warped.shape[0] )\n",
    "    left_fitx = left_fit[0]*ploty**2 + left_fit[1]*ploty + left_fit[2]\n",
    "    right_fitx = right_fit[0]*ploty**2 + right_fit[1]*ploty + right_fit[2]\n",
    "\n",
    "    \n",
    "    \n",
    "    left_curverad, right_curverad=determine_curvature (ploty, leftx, lefty, rightx, righty)\n",
    "\n",
    "    if save_images:\n",
    "        # Create an image to draw on and an image to show the selection window\n",
    "        out_img = np.dstack((binary_warped, binary_warped, binary_warped))*255\n",
    "        window_img = np.zeros_like(out_img)\n",
    "        # Color in left and right line pixels\n",
    "        out_img[nonzeroy[left_lane_inds], nonzerox[left_lane_inds]] = [255, 0, 0]\n",
    "        out_img[nonzeroy[right_lane_inds], nonzerox[right_lane_inds]] = [0, 0, 255]\n",
    "\n",
    "        # Generate a polygon to illustrate the search window area\n",
    "        # And recast the x and y points into usable format for cv2.fillPoly()\n",
    "        left_line_window1 = np.array([np.transpose(np.vstack([left_fitx-margin, ploty]))])\n",
    "        left_line_window2 = np.array([np.flipud(np.transpose(np.vstack([left_fitx+margin, ploty])))])\n",
    "        left_line_pts = np.hstack((left_line_window1, left_line_window2))\n",
    "        right_line_window1 = np.array([np.transpose(np.vstack([right_fitx-margin, ploty]))])\n",
    "        right_line_window2 = np.array([np.flipud(np.transpose(np.vstack([right_fitx+margin, ploty])))])\n",
    "        right_line_pts = np.hstack((right_line_window1, right_line_window2))\n",
    "\n",
    "        # Draw the lane onto the warped blank image\n",
    "        cv2.fillPoly(window_img, np.int_([left_line_pts]), (0,255, 0))\n",
    "        cv2.fillPoly(window_img, np.int_([right_line_pts]), (0,255, 0))\n",
    "        result = cv2.addWeighted(out_img, 1, window_img, 0.3, 0)\n",
    "        plt.plot(left_fitx, ploty, color='yellow')\n",
    "        plt.plot(right_fitx, ploty, color='yellow')\n",
    "        plt.xlim(0, 1280)\n",
    "        plt.ylim(720, 0)\n",
    "        cv2.imwrite(\"output_images/detect_lane_{}\".format(fname.split(\"/\")[-1]), out_img)\n",
    "    return (ploty, left_curverad, right_curverad, left_fit, right_fit)\n"
   ]
  },
  {
   "cell_type": "code",
   "execution_count": 10,
   "metadata": {
    "collapsed": true
   },
   "outputs": [],
   "source": [
    "#Determine the curvature of the lane and vehicle position with respect to center.\n",
    "def determine_curvature (ploty, leftx, lefty, rightx, righty):\n",
    "    # Define y-value where we want radius of curvature\n",
    "    # I'll choose the maximum y-value, corresponding to the bottom of the image\n",
    "    y_eval = np.max(ploty)\n",
    "    # Define conversions in x and y from pixels space to meters\n",
    "    ym_per_pix = 30/720 # meters per pixel in y dimension\n",
    "    xm_per_pix = 3.7/700 # meters per pixel in x dimension\n",
    "\n",
    "    # Fit new polynomials to x,y in world space\n",
    "    left_fit_cr = np.polyfit(lefty*ym_per_pix, leftx*xm_per_pix, 2)\n",
    "    right_fit_cr = np.polyfit(righty*ym_per_pix, rightx*xm_per_pix, 2)\n",
    "    # Calculate the new radii of curvature\n",
    "    left_curverad = ((1 + (2*left_fit_cr[0]*y_eval*ym_per_pix + left_fit_cr[1])**2)**1.5) / np.absolute(2*left_fit_cr[0])\n",
    "    right_curverad = ((1 + (2*right_fit_cr[0]*y_eval*ym_per_pix + right_fit_cr[1])**2)**1.5) / np.absolute(2*right_fit_cr[0])\n",
    "    # Now our radius of curvature is in meters\n",
    "    return (left_curverad, right_curverad)\n"
   ]
  },
  {
   "cell_type": "code",
   "execution_count": 11,
   "metadata": {
    "collapsed": true
   },
   "outputs": [],
   "source": [
    "#Warp the detected lane boundaries back onto the original image.\n",
    "def warp_onto_original(undist, warped, Minv, ploty, left_fit, right_fit, fname='', save_images=0):\n",
    "    # Create an image to draw the lines on\n",
    "    warp_zero = np.zeros_like(warped).astype(np.uint8)\n",
    "    color_warp = np.dstack((warp_zero, warp_zero, warp_zero))\n",
    "    \n",
    "    left_fitx = left_fit[0]*ploty**2 + left_fit[1]*ploty + left_fit[2]\n",
    "    right_fitx = right_fit[0]*ploty**2 + right_fit[1]*ploty + right_fit[2]\n",
    "\n",
    "    # Recast the x and y points into usable format for cv2.fillPoly()\n",
    "       \n",
    "    pts_left = np.array([np.transpose(np.vstack([left_fitx, ploty]))])\n",
    "    pts_right = np.array([np.flipud(np.transpose(np.vstack([right_fitx, ploty])))])\n",
    "\n",
    "    pts = np.hstack((pts_left, pts_right))\n",
    "\n",
    "    # Draw the lane onto the warped blank image\n",
    "    cv2.fillPoly(color_warp, np.int_([pts]), (0,255, 0))\n",
    "    cv2.polylines(color_warp, np.int32([pts_left]), False, (0,0,255), thickness=20)\n",
    "    cv2.polylines(color_warp, np.int32([pts_right]), False, (0,0,255), thickness=20)\n",
    "\n",
    "\n",
    "    # Warp the blank back to original image space using inverse perspective matrix (Minv)\n",
    "    newwarp = cv2.warpPerspective(color_warp, Minv, (undist.shape[1], undist.shape[0])) \n",
    "    # Combine the result with the original image\n",
    "    result = cv2.addWeighted(undist, 1, newwarp, 0.3, 0)\n",
    "    if save_images:\n",
    "        cv2.imwrite(\"output_images/final_{}\".format(fname.split(\"/\")[-1]), result)\n",
    "    return result"
   ]
  },
  {
   "cell_type": "code",
   "execution_count": 12,
   "metadata": {
    "collapsed": true
   },
   "outputs": [],
   "source": [
    "def test_image_pipeline(warp_matrices, region_of_interest_vertices, save_images):\n",
    "    \n",
    "    images = glob.glob('test_images/test*.jpg')\n",
    "\n",
    "    for idx, fname in enumerate(images):\n",
    "        img = cv2.imread(fname)\n",
    "        undist = undistort_camera_image(objpoints, imgpoints, img, fname=fname, save_images=save_images)\n",
    "        cb, cmb, sb, sxb = generate_threshold_binary_image(undist, s_thresh=(170, 255), sx_thresh=(20, 100), fname=fname, save_images=save_images)\n",
    "        masked_binary = region_of_interest(cmb,region_of_interest_vertices, fname=fname, save_images=save_images)\n",
    "        warped = apply_perspective_transform(masked_binary, warp_matrices[0], fname=fname, save_images=save_images)\n",
    "        ploty, left_curverad, right_curverad, left_fit, right_fit = detect_lanes_from_scratch(warped, fname=fname, save_images=save_images)\n",
    "        print(left_curverad, 'm', right_curverad, 'm')\n",
    "        warp_onto_original(undist, warped, warp_matrices[1], ploty, left_fit, right_fit, fname=fname, save_images=save_images)\n"
   ]
  },
  {
   "cell_type": "code",
   "execution_count": 13,
   "metadata": {
    "collapsed": true
   },
   "outputs": [],
   "source": [
    "def process_frame(image):\n",
    "    global save_images, frm_cnt, objpoints, imgpoints, warp_matrix, inv_warp_matrix, region_of_interest_vertices, \\\n",
    "           prev_left_fit, prev_right_fit\n",
    "    frm_cnt += 1\n",
    "    fname = \"output_images/frame_{}.jpg\".format(frm_cnt)\n",
    "    undist = undistort_camera_image(objpoints, imgpoints, image, fname=fname, save_images=save_images)\n",
    "    cb, cmb, sb, sxb = generate_threshold_binary_image(undist, s_thresh=(170, 255), sx_thresh=(20, 100), fname=fname, save_images=save_images)\n",
    "    masked_binary = region_of_interest(cmb,region_of_interest_vertices, fname=fname, save_images=save_images)\n",
    "    binary_warped = apply_perspective_transform(masked_binary, warp_matrix, fname=fname, save_images=save_images)\n",
    "    ploty, left_curverad, right_curverad, left_fit, right_fit = detect_lanes_using_previous_lane_values(binary_warped, prev_left_fit, prev_right_fit, fname='', save_images=0)\n",
    "    prev_left_fit, prev_right_fit = left_fit, right_fit\n",
    "\n",
    "    #print(left_curverad, 'm', right_curverad, 'm')\n",
    "    result=warp_onto_original(undist, binary_warped, inv_warp_matrix, ploty, left_fit, right_fit, fname=fname, save_images=save_images)\n",
    "    return result"
   ]
  },
  {
   "cell_type": "code",
   "execution_count": 14,
   "metadata": {
    "collapsed": false
   },
   "outputs": [
    {
     "name": "stdout",
     "output_type": "stream",
     "text": [
      "[[  585.           460.        ]\n",
      " [  203.33332825   720.        ]\n",
      " [ 1126.66662598   720.        ]\n",
      " [  695.           460.        ]]\n",
      "Brute force\n",
      "894.108001002 m 37148.9979979 m\n",
      "Brute force\n",
      "739.190825021 m 4557.42822301 m\n",
      "Brute force\n",
      "1213.62853994 m 656.406812562 m\n",
      "Brute force\n",
      "723.055485203 m 732.336538675 m\n",
      "Brute force\n",
      "1527.24626046 m 54.86273598 m\n",
      "Brute force\n",
      "1209.4788146 m 1089.94371582 m\n",
      "Brute force\n",
      "[MoviePy] >>>> Building video output.mp4\n",
      "[MoviePy] Writing video output.mp4\n"
     ]
    },
    {
     "name": "stderr",
     "output_type": "stream",
     "text": [
      " 42%|████▏     | 534/1261 [11:00<15:11,  1.25s/it]"
     ]
    },
    {
     "name": "stdout",
     "output_type": "stream",
     "text": [
      "Brute force\n"
     ]
    },
    {
     "name": "stderr",
     "output_type": "stream",
     "text": [
      " 78%|███████▊  | 984/1261 [20:19<05:46,  1.25s/it]"
     ]
    },
    {
     "name": "stdout",
     "output_type": "stream",
     "text": [
      "Brute force\n"
     ]
    },
    {
     "name": "stderr",
     "output_type": "stream",
     "text": [
      "\r",
      " 78%|███████▊  | 985/1261 [20:20<05:47,  1.26s/it]"
     ]
    },
    {
     "name": "stdout",
     "output_type": "stream",
     "text": [
      "Brute force\n"
     ]
    },
    {
     "name": "stderr",
     "output_type": "stream",
     "text": [
      " 82%|████████▏ | 1038/1261 [21:27<04:47,  1.29s/it]"
     ]
    },
    {
     "name": "stdout",
     "output_type": "stream",
     "text": [
      "Brute force\n"
     ]
    },
    {
     "name": "stderr",
     "output_type": "stream",
     "text": [
      "\r",
      " 82%|████████▏ | 1039/1261 [21:29<04:47,  1.29s/it]"
     ]
    },
    {
     "name": "stdout",
     "output_type": "stream",
     "text": [
      "Brute force\n"
     ]
    },
    {
     "name": "stderr",
     "output_type": "stream",
     "text": [
      "\r",
      " 82%|████████▏ | 1040/1261 [21:30<04:46,  1.30s/it]"
     ]
    },
    {
     "name": "stdout",
     "output_type": "stream",
     "text": [
      "Brute force\n"
     ]
    },
    {
     "name": "stderr",
     "output_type": "stream",
     "text": [
      " 83%|████████▎ | 1042/1261 [21:32<04:43,  1.29s/it]"
     ]
    },
    {
     "name": "stdout",
     "output_type": "stream",
     "text": [
      "Brute force\n"
     ]
    },
    {
     "name": "stderr",
     "output_type": "stream",
     "text": [
      "\r",
      " 83%|████████▎ | 1043/1261 [21:34<04:41,  1.29s/it]"
     ]
    },
    {
     "name": "stdout",
     "output_type": "stream",
     "text": [
      "Brute force\n"
     ]
    },
    {
     "name": "stderr",
     "output_type": "stream",
     "text": [
      "100%|█████████▉| 1260/1261 [26:05<00:01,  1.25s/it]\n"
     ]
    },
    {
     "name": "stdout",
     "output_type": "stream",
     "text": [
      "[MoviePy] Done.\n",
      "[MoviePy] >>>> Video ready: output.mp4 \n",
      "\n"
     ]
    },
    {
     "data": {
      "image/png": "[encoded data removed]",
      "text/plain": [
       "<matplotlib.figure.Figure at 0x7f9cb5758780>"
      ]
     },
     "metadata": {},
     "output_type": "display_data"
    }
   ],
   "source": [
    "if __name__==\"__main__\":\n",
    "    save_images=1\n",
    "    objpoints, imgpoints = compute_camera_calibration_matrix(save_images=save_images)\n",
    "    warp_matrix, inv_warp_matrix = get_warp_matrix(cv2.imread(\"test_images/straight_lines2.jpg\"), save_images=save_images)\n",
    "    region_of_interest_vertices = np.array([[(120,720), (600,420), (680, 420), (1200,720)]], dtype=np.int32)\n",
    "    test_image_pipeline((warp_matrix, inv_warp_matrix), region_of_interest_vertices, save_images)\n",
    "    \n",
    "    frm_cnt=0\n",
    "    prev_left_fit = None\n",
    "    prev_right_fit = None\n",
    "    clip1 = VideoFileClip(\"project_video.mp4\")\n",
    "    clip = clip1.fl_image(process_frame) #NOTE: this function expects color images!!\n",
    "    clip.write_videofile(\"output.mp4\", audio=False)\n",
    "    "
   ]
  },
  {
   "cell_type": "code",
   "execution_count": null,
   "metadata": {
    "collapsed": true
   },
   "outputs": [],
   "source": []
  }
 ],
 "metadata": {
  "anaconda-cloud": {},
  "kernelspec": {
   "display_name": "Python 3",
   "language": "python",
   "name": "python3"
  },
  "language_info": {
   "codemirror_mode": {
    "name": "ipython",
    "version": 3
   },
   "file_extension": ".py",
   "mimetype": "text/x-python",
   "name": "python",
   "nbconvert_exporter": "python",
   "pygments_lexer": "ipython3",
   "version": "3.5.2"
  },
  "widgets": {
   "state": {},
   "version": "1.1.2"
  }
 },
 "nbformat": 4,
 "nbformat_minor": 1
}
