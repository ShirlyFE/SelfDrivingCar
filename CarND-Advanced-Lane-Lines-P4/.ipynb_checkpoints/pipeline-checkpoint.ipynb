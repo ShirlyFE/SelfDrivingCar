{
 "cells": [
  {
   "cell_type": "code",
   "execution_count": 6,
   "metadata": {
    "collapsed": false
   },
   "outputs": [
    {
     "data": {
      "text/html": [
       "<style> code {background-color : pink !important;} </style>"
      ],
      "text/plain": [
       "<IPython.core.display.HTML object>"
      ]
     },
     "metadata": {},
     "output_type": "display_data"
    }
   ],
   "source": [
    "%%HTML\n",
    "<style> code {background-color : pink !important;} </style>"
   ]
  },
  {
   "cell_type": "markdown",
   "metadata": {},
   "source": [
    "Advanced lane finding pipeline\n",
    "===\n",
    "\n"
   ]
  },
  {
   "cell_type": "code",
   "execution_count": 1,
   "metadata": {
    "collapsed": true
   },
   "outputs": [],
   "source": [
    "import numpy as np\n",
    "import cv2\n",
    "import glob\n",
    "import matplotlib.pyplot as plt\n",
    "import pickle"
   ]
  },
  {
   "cell_type": "code",
   "execution_count": 7,
   "metadata": {
    "collapsed": false
   },
   "outputs": [],
   "source": [
    "def compute_camera_calibration_matrix(save_images=0):\n",
    "    '''Compute the camera calibration matrix and distortion coefficients given a set of chessboard images.\n",
    "    '''\n",
    "    # prepare object points, like (0,0,0), (1,0,0), (2,0,0) ....,(6,5,0)\n",
    "    objp = np.zeros((6*9,3), np.float32)\n",
    "    objp[:,:2] = np.mgrid[0:9, 0:6].T.reshape(-1,2)\n",
    "\n",
    "    # Arrays to store object points and image points from all the images.\n",
    "    objpoints = [] # 3d points in real world space\n",
    "    imgpoints = [] # 2d points in image plane.\n",
    "\n",
    "    # Make a list of calibration images\n",
    "    images = glob.glob('camera_cal/calibration*.jpg')\n",
    "\n",
    "    # Step through the list and search for chessboard corners\n",
    "    for idx, fname in enumerate(images):\n",
    "        img = cv2.imread(fname)\n",
    "        gray = cv2.cvtColor(img, cv2.COLOR_BGR2GRAY)\n",
    "\n",
    "        # Find the chessboard corners\n",
    "        ret, corners = cv2.findChessboardCorners(gray, (9,6), None)\n",
    "\n",
    "        # If found, add object points, image points\n",
    "        if ret == True:\n",
    "            objpoints.append(objp)\n",
    "            imgpoints.append(corners)\n",
    "            if save_images:\n",
    "                # Draw and display the corners\n",
    "                cv2.drawChessboardCorners(img, (9,6), corners, ret)\n",
    "                cv2.imwrite(\"output_images/corners_found_{}\".format(fname.split(\"/\")[-1]), img)\n",
    "    return (objpoints, imgpoints)"
   ]
  },
  {
   "cell_type": "code",
   "execution_count": 3,
   "metadata": {
    "collapsed": false
   },
   "outputs": [],
   "source": [
    "def undistort_camera_image(objpoints, imgpoints, img, fname='', save_images=0):\n",
    "    '''Apply a distortion correction to raw images.\n",
    "    '''\n",
    "    # Test undistortion on an image\n",
    "    img_size = (img.shape[1], img.shape[0])\n",
    "    # Do camera calibration given object points and image points\n",
    "    ret, mtx, dist, rvecs, tvecs = cv2.calibrateCamera(objpoints, imgpoints, img_size, None, None)\n",
    "    dst = cv2.undistort(img, mtx, dist, None, mtx)\n",
    "    if save_images:\n",
    "        write_name = 'output_images/undist_'+fname\n",
    "        cv2.imwrite(write_name, img)\n",
    "\n",
    "    return dst"
   ]
  },
  {
   "cell_type": "code",
   "execution_count": 4,
   "metadata": {
    "collapsed": true
   },
   "outputs": [],
   "source": [
    "def generate_threshold_binary_image(img, s_thresh=(170, 255), sx_thresh=(20, 100), fname='', save_images=0): \n",
    "    '''Use color transforms, gradients, etc., to create a thresholded binary image.\n",
    "    '''\n",
    "    img = np.copy(img)\n",
    "    # Convert to HSV color space and separate the V channel\n",
    "    hsv = cv2.cvtColor(img, cv2.COLOR_RGB2HLS).astype(np.float)\n",
    "    l_channel = hsv[:,:,1]\n",
    "    s_channel = hsv[:,:,2]\n",
    "    # Sobel x\n",
    "    sobelx = cv2.Sobel(l_channel, cv2.CV_64F, 1, 0) # Take the derivative in x\n",
    "    abs_sobelx = np.absolute(sobelx) # Absolute x derivative to accentuate lines away from horizontal\n",
    "    scaled_sobel = np.uint8(255*abs_sobelx/np.max(abs_sobelx))\n",
    "    # Threshold x gradient\n",
    "    sxbinary = np.zeros_like(scaled_sobel)\n",
    "    sxbinary[(scaled_sobel >= sx_thresh[0]) & (scaled_sobel <= sx_thresh[1])] = 1\n",
    "    # Threshold color channel\n",
    "    s_binary = np.zeros_like(s_channel)\n",
    "    s_binary[(s_channel >= s_thresh[0]) & (s_channel <= s_thresh[1])] = 1\n",
    "    # Stack each channel\n",
    "    # Note color_binary[:, :, 0] is all 0s, effectively an all black image. It might\n",
    "    # be beneficial to replace this channel with something else.\n",
    "    color_binary = np.dstack(( np.zeros_like(sxbinary), sxbinary, s_binary))\n",
    " \n",
    "    # Combine the two binary thresholds\n",
    "    combined_binary = np.zeros_like(sxbinary)\n",
    "    combined_binary[(s_binary == 1) | (sxbinary == 1)] = 1\n",
    "    \n",
    "    if save_images:\n",
    "        plt.imsave(\"output_images/cb_{}.jpg\".format(fname.split(\"/\")[-1]), color_binary)\n",
    "        plt.imsave(\"output_images/cmb_{}.jpg\".format(fname.split(\"/\")[-1]), combined_binary)\n",
    "        plt.imsave(\"output_images/sb_{}.jpg\".format(fname.split(\"/\")[-1]), s_binary)\n",
    "        plt.imsave(\"output_images/sxb_{}.jpg\".format(fname.split(\"/\")[-1]), sxbinary)\n",
    "    \n",
    "\n",
    "    return (color_binary, combined_binary, s_binary, sxbinary)"
   ]
  },
  {
   "cell_type": "code",
   "execution_count": 9,
   "metadata": {
    "collapsed": true
   },
   "outputs": [],
   "source": [
    "def get_warp_matrix(img, save_images=0):\n",
    "    \n",
    "    img_size = (img.shape[1], img.shape[0])\n",
    "\n",
    "    src = np.float32(\n",
    "    [[(img_size[0] / 2) - 55, img_size[1] / 2 + 100],\n",
    "    [((img_size[0] / 6) - 10), img_size[1]],\n",
    "    [(img_size[0] * 5 / 6) + 60, img_size[1]],\n",
    "    [(img_size[0] / 2 + 55), img_size[1] / 2 + 100]])\n",
    "\n",
    "    dst = np.float32(\n",
    "    [[(img_size[0] / 4), 0],\n",
    "    [(img_size[0] / 4), img_size[1]],\n",
    "    [(img_size[0] * 3 / 4), img_size[1]],\n",
    "    [(img_size[0] * 3 / 4), 0]])\n",
    "\n",
    "    #Compute perspective warp matrix\n",
    "    M = cv2.getPerspectiveTransform(src, dst)\n",
    "\n",
    "    #Compute the inverse perspective transform\n",
    "    Minv = cv2.getPerspectiveTransform(dst, src)\n",
    "    if save_images:\n",
    "        cv2.imwrite(\"output_images/perspective_original.jpg\", img)\n",
    "        warped=cv2.warpPerspective(img, M, img_size, flags=cv2.INTER_LINEAR)\n",
    "        cv2.imwrite(\"output_images/perspective_warped.jpg\", warped)\n",
    "\n",
    "    return (M, Minv)\n",
    "    \n",
    "def apply_perspective_transform(img, warp_matrix):\n",
    "    '''Apply a perspective transform to rectify binary image (\"birds-eye view\").\n",
    "    '''    \n",
    "    img_size = (img.shape[1], img.shape[0])\n",
    "    warped = cv2.warpPerspective(img, warp_matrix, img_size, flags=cv2.INTER_LINEAR)"
   ]
  },
  {
   "cell_type": "code",
   "execution_count": 8,
   "metadata": {
    "collapsed": false
   },
   "outputs": [
    {
     "name": "stdout",
     "output_type": "stream",
     "text": [
      "here\n",
      "here\n"
     ]
    }
   ],
   "source": [
    "if __name__==\"__main__\":\n",
    "\n",
    "    objpoints, imgpoints = compute_camera_calibration_matrix(generate_images=0)\n",
    "\n",
    "    images = glob.glob('test_images/straight_lines*.jpg')\n",
    "    \n",
    "    for idx, fname in enumerate(images):\n",
    "        img = cv2.imread(fname)\n",
    "        undist = undistort_camera_image(objpoints, imgpoints, img)\n",
    "        cb, cmb, sb, sxb = generate_threshold_binary_image(undist, s_thresh=(170, 255), sx_thresh=(20, 100))\n",
    "        plt.imsave(\"output_images/test_cb_{}.jpg\".format(idx+1), cb)\n",
    "        plt.imsave(\"output_images/test_cmb_{}.jpg\".format(idx+1), cmb)\n",
    "        plt.imsave(\"output_images/test_sb_{}.jpg\".format(idx+1), sb)\n",
    "        plt.imsave(\"output_images/test_sxb_{}.jpg\".format(idx+1), sxb)\n",
    "        \n"
   ]
  },
  {
   "cell_type": "code",
   "execution_count": null,
   "metadata": {
    "collapsed": true
   },
   "outputs": [],
   "source": []
  }
 ],
 "metadata": {
  "anaconda-cloud": {},
  "kernelspec": {
   "display_name": "Python [conda root]",
   "language": "python",
   "name": "conda-root-py"
  },
  "language_info": {
   "codemirror_mode": {
    "name": "ipython",
    "version": 3
   },
   "file_extension": ".py",
   "mimetype": "text/x-python",
   "name": "python",
   "nbconvert_exporter": "python",
   "pygments_lexer": "ipython3",
   "version": "3.5.2"
  }
 },
 "nbformat": 4,
 "nbformat_minor": 1
}
