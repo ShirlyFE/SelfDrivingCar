{
 "cells": [
  {
   "cell_type": "markdown",
   "metadata": {},
   "source": [
    "# Train Steering Model\n",
    "\n"
   ]
  },
  {
   "cell_type": "markdown",
   "metadata": {},
   "source": []
  },
  {
   "cell_type": "code",
   "execution_count": 1,
   "metadata": {
    "collapsed": false
   },
   "outputs": [
    {
     "name": "stderr",
     "output_type": "stream",
     "text": [
      "Using TensorFlow backend.\n"
     ]
    }
   ],
   "source": [
    "\"\"\"\n",
    "Steering angle prediction model\n",
    "\"\"\"\n",
    "import json\n",
    "import pandas as pd\n",
    "import numpy as np\n",
    "import matplotlib.pyplot as plt\n",
    "import cv2\n",
    "\n",
    "from keras.models import Sequential\n",
    "from keras.utils.visualize_util import plot as keras_plot\n",
    "from keras.layers import Dense, Dropout, Flatten, Lambda, ELU, Cropping2D\n",
    "from keras.layers.convolutional import Convolution2D\n",
    "from scipy.stats import bernoulli\n",
    "from scipy.misc import imresize\n",
    "from sklearn.utils import shuffle\n",
    "\n",
    "\n",
    "from sklearn.model_selection import train_test_split\n",
    "\n",
    "STEER_OFFSET = 0.22\n",
    "CROPPING_TOP=60\n",
    "CROPPING_BOTTOM=20"
   ]
  },
  {
   "cell_type": "code",
   "execution_count": 2,
   "metadata": {
    "collapsed": true
   },
   "outputs": [],
   "source": [
    "def get_model():\n",
    "    row, col, ch = 64, 64, 3  # camera format\n",
    "    model = Sequential()\n",
    "    model.add(Lambda(lambda x: x/255 - 0.5, input_shape=(row, col, ch), output_shape=(row, col, ch)))\n",
    "    model.add(Convolution2D(16, 8, 8, subsample=(4, 4), border_mode=\"same\"))\n",
    "    model.add(ELU())\n",
    "    model.add(Convolution2D(32, 5, 5, subsample=(2, 2), border_mode=\"same\"))\n",
    "    model.add(ELU())\n",
    "    model.add(Convolution2D(64, 5, 5, subsample=(2, 2), border_mode=\"same\"))\n",
    "    model.add(Flatten())\n",
    "    model.add(Dropout(.2))\n",
    "    model.add(ELU())\n",
    "    model.add(Dense(512))\n",
    "    model.add(Dropout(.5))\n",
    "    model.add(ELU())\n",
    "    model.add(Dense(1))\n",
    "    model.compile(optimizer=\"adam\", loss=\"mse\")\n",
    "    model.summary()\n",
    "    return model\n"
   ]
  },
  {
   "cell_type": "code",
   "execution_count": 3,
   "metadata": {
    "collapsed": true
   },
   "outputs": [],
   "source": [
    "def remove_low_throttle_data(df):\n",
    "    ind = df['throttle']>.25\n",
    "    return df[ind].reset_index(drop=True)\n",
    "\n",
    "def remove_low_steering_data(df):\n",
    "    ind = df['steering']>0.10\n",
    "    return df[ind].reset_index(drop=True)\n",
    "\n",
    "def plot_steering_data(df, length):\n",
    "    steer_s = np.array(df['steering'],dtype=np.float32)\n",
    "    t_s = np.arange(len(steer_s))\n",
    "    x_s = np.array(df['steering'])\n",
    "\n",
    "    plt.plot(t_s[:length],x_s[:length]);\n",
    "    plt.xlabel('time')\n",
    "    plt.ylabel('signal')\n",
    "    plt.ylim(-1,1);\n",
    "    plt.show()"
   ]
  },
  {
   "cell_type": "code",
   "execution_count": 4,
   "metadata": {
    "collapsed": true
   },
   "outputs": [],
   "source": [
    "def random_gamma(image):\n",
    "    '''\n",
    "    Random gamma correction is used as an alternative method changing the brightness of\n",
    "    training images.\n",
    "    http://www.pyimagesearch.com/2015/10/05/opencv-gamma-correction/\n",
    "    '''\n",
    "    gamma = np.random.uniform(0.4, 1.5)\n",
    "    inv_gamma = 1.0 / gamma\n",
    "    table = np.array([((i / 255.0) ** inv_gamma) * 255\n",
    "                      for i in np.arange(0, 256)]).astype(\"uint8\")\n",
    "    # apply gamma correction using the lookup table\n",
    "    return cv2.LUT(image, table)\n",
    "\n",
    "def crop(img, top=CROPPING_TOP, bottom=CROPPING_BOTTOM):\n",
    "    return img[top:img.shape[0]-bottom]\n",
    "\n",
    "def random_flip(img, steer_angle, prob=0.5):\n",
    "    if bernoulli.rvs(prob) == 1:\n",
    "        return np.fliplr(img), -1 * steer_angle\n",
    "    else:\n",
    "        return img, steer_angle\n",
    "\n",
    "def random_rotation(img, steering_angle, rotation_amount=15):\n",
    "    angle = np.random.uniform(-rotation_amount, rotation_amount + 1)\n",
    "    rad = (np.pi / 180.0) * angle\n",
    "    return rotate(img, angle, reshape=False), steering_angle + (-1) * rad\n",
    "\n",
    "def random_shear(img, steer_angle, shear_range=200):\n",
    "    \"\"\"\n",
    "    Source: https://medium.com/@ksakmann/behavioral-cloning-make-a-car-drive-like-yourself-dc6021152713#.7k8vfppvk\n",
    "    \"\"\"\n",
    "    rows, cols, ch = img.shape\n",
    "    dx = np.random.randint(-shear_range, shear_range + 1)\n",
    "    random_point = [cols / 2 + dx, rows / 2]\n",
    "    pts1 = np.float32([[0, rows], [cols, rows], [cols / 2, rows / 2]])\n",
    "    pts2 = np.float32([[0, rows], [cols, rows], random_point])\n",
    "    dsteering = dx / (rows / 2) * 360 / (2 * np.pi * 25.0) / 6.0\n",
    "    M = cv2.getAffineTransform(pts1, pts2)\n",
    "    img = cv2.warpAffine(img, M, (cols, rows), borderMode=1)\n",
    "    steer_angle += dsteering\n",
    "    return img, steer_angle\n",
    "\n",
    "def generate_new_image(img, steer_angle, resize_dim=(64, 64), shear_prob=0.2, save_image=0, fname=\"\"): \n",
    "    if bernoulli.rvs(shear_prob) == 1:\n",
    "        img, steer_angle = random_shear(img, steer_angle)\n",
    "        if save_image:\n",
    "            plt.imsave(\"data/output_images/sheared_{}\".format(fname.split(\"/\")[-1]), img)       \n",
    "    img = crop(img)\n",
    "    if save_image:\n",
    "            plt.imsave(\"data/output_images/cropped_{}\".format(fname.split(\"/\")[-1]), img)\n",
    "    img, steer_angle = random_flip(img, steer_angle)\n",
    "    if save_image:\n",
    "            plt.imsave(\"data/output_images/random_flip_{}\".format(fname.split(\"/\")[-1]), img)\n",
    "    img = random_gamma(img)\n",
    "    if save_image:\n",
    "            plt.imsave(\"data/output_images/random_gamma_{}\".format(fname.split(\"/\")[-1]), img)\n",
    "    img = imresize(img, resize_dim)\n",
    "    if save_image:\n",
    "            plt.imsave(\"data/output_images/resized64x64_{}\".format(fname.split(\"/\")[-1]), img)\n",
    "    return img, steer_angle\n",
    "\n",
    "def verify_image_generation_pipeline(df):\n",
    "        df = df.sample(frac=1).reset_index(drop=True)\n",
    "        for i in range(10):\n",
    "            generate_new_image_from_random_camera(df, i, save_image=1)\n",
    "            \n",
    "\n",
    "    \n",
    "\n",
    "def generate_new_image_from_random_camera(df, idx, save_image=0):\n",
    "    camera={0:\"left\", 1:\"center\", 2:\"right\"}\n",
    "    steer_offset={0:-STEER_OFFSET, 1:0, 2:STEER_OFFSET}\n",
    "    rnd_cmra = np.random.randint(0, 3)\n",
    "    img = plt.imread(\"data/original/IMG/{}\".format(df[camera[rnd_cmra]][idx].split(\"/\")[-1]))\n",
    "    steer_angle = df[\"steering\"][idx] + steer_offset[rnd_cmra]\n",
    "    img, steer_angle = generate_new_image(img, steer_angle, save_image=save_image, fname=df[camera[rnd_cmra]][idx])\n",
    "    return img, steer_angle\n",
    "    \n",
    "def generate_training_data_from_df(df, batch_size=128):\n",
    "    df = df.sample(frac=1).reset_index(drop=True)\n",
    "    k=0\n",
    "    while 1:\n",
    "        if(k*batch_size >= len(df)):\n",
    "            k=0\n",
    "        batch_X = np.empty([0, 64, 64, 3])\n",
    "        batch_y = np.empty([0], \"float32\")\n",
    "        for i in range(batch_size):\n",
    "            img, steer_angle = generate_new_image_from_random_camera(df, i)\n",
    "            batch_X = np.append(batch_X, [img], axis=0) \n",
    "            batch_y = np.append(batch_y, [steer_angle], axis=0)\n",
    "        k=k+1\n",
    "        yield batch_X, batch_y\n",
    "\n",
    "def generate_validation_data_from_df(df):\n",
    "    df = df.sample(frac=1).reset_index(drop=True)\n",
    "    while 1:\n",
    "        for k in range(len(df)): \n",
    "            img, steer_angle = generate_new_image_from_random_camera(df, k)\n",
    "            X = np.array([img]) \n",
    "            y = np.array([steer_angle])\n",
    "            yield X, y"
   ]
  },
  {
   "cell_type": "code",
   "execution_count": null,
   "metadata": {
    "collapsed": true
   },
   "outputs": [],
   "source": [
    "def plot_loss(history_object):\n",
    "    print(history_object.history.keys())\n",
    "    plt.plot(history_object.history['loss'])\n",
    "    plt.plot(history_object.history['val_loss'])\n",
    "    plt.title('model mean squared error loss')\n",
    "    plt.ylabel('mean squared error loss')\n",
    "    plt.xlabel('epoch')\n",
    "    plt.legend(['training set', 'validation set'], loc='upper right')\n",
    "    plt.show()"
   ]
  },
  {
   "cell_type": "code",
   "execution_count": null,
   "metadata": {
    "collapsed": false
   },
   "outputs": [
    {
     "name": "stdout",
     "output_type": "stream",
     "text": [
      "____________________________________________________________________________________________________\n",
      "Layer (type)                     Output Shape          Param #     Connected to                     \n",
      "====================================================================================================\n",
      "lambda_1 (Lambda)                (None, 64, 64, 3)     0           lambda_input_1[0][0]             \n",
      "____________________________________________________________________________________________________\n",
      "convolution2d_1 (Convolution2D)  (None, 16, 16, 16)    3088        lambda_1[0][0]                   \n",
      "____________________________________________________________________________________________________\n",
      "elu_1 (ELU)                      (None, 16, 16, 16)    0           convolution2d_1[0][0]            \n",
      "____________________________________________________________________________________________________\n",
      "convolution2d_2 (Convolution2D)  (None, 8, 8, 32)      12832       elu_1[0][0]                      \n",
      "____________________________________________________________________________________________________\n",
      "elu_2 (ELU)                      (None, 8, 8, 32)      0           convolution2d_2[0][0]            \n",
      "____________________________________________________________________________________________________\n",
      "convolution2d_3 (Convolution2D)  (None, 4, 4, 64)      51264       elu_2[0][0]                      \n",
      "____________________________________________________________________________________________________\n",
      "flatten_1 (Flatten)              (None, 1024)          0           convolution2d_3[0][0]            \n",
      "____________________________________________________________________________________________________\n",
      "dropout_1 (Dropout)              (None, 1024)          0           flatten_1[0][0]                  \n",
      "____________________________________________________________________________________________________\n",
      "elu_3 (ELU)                      (None, 1024)          0           dropout_1[0][0]                  \n",
      "____________________________________________________________________________________________________\n",
      "dense_1 (Dense)                  (None, 512)           524800      elu_3[0][0]                      \n",
      "____________________________________________________________________________________________________\n",
      "dropout_2 (Dropout)              (None, 512)           0           dense_1[0][0]                    \n",
      "____________________________________________________________________________________________________\n",
      "elu_4 (ELU)                      (None, 512)           0           dropout_2[0][0]                  \n",
      "____________________________________________________________________________________________________\n",
      "dense_2 (Dense)                  (None, 1)             513         elu_4[0][0]                      \n",
      "====================================================================================================\n",
      "Total params: 592,497\n",
      "Trainable params: 592,497\n",
      "Non-trainable params: 0\n",
      "____________________________________________________________________________________________________\n",
      "Number of available samples: 15536\n",
      "Number of available samples after removing low throttle values: 9756\n",
      "Number of Training samples: 6829\n",
      "Number of Validation samples: 2927\n",
      "Epoch 1/10\n",
      "  512/25600 [..............................] - ETA: 384s - loss: 0.3023\b\b\b\b\b\b\b\b\b\b\b\b\b\b\b\b\b\b\b\b\b\b\b\b\b\b\b\b\b\b\b\b\b\b\b\b\b\b\b\b\b\b\b\b\b\b\b\b\b\b\b\b\b\b\b\b\b\b\b\b\b\b\b\b\b\b\b\b\b\b\b"
     ]
    }
   ],
   "source": [
    "if __name__ == \"__main__\":\n",
    "    \n",
    "    model = get_model()\n",
    "    keras_plot(model, to_file='model.png')\n",
    "    \n",
    "    dtfrm=pd.read_csv(\"data/original/driving_log.csv\")\n",
    "    \n",
    "    print(\"Number of available samples: {}\".format(len(dtfrm)))\n",
    "    dtfrm = remove_low_throttle_data(dtfrm)\n",
    "    #dtfrm = remove_low_steering_data(dtfrm)\n",
    "\n",
    "    dtfrm = shuffle(dtfrm)\n",
    "\n",
    "    print(\"Number of available samples after removing low throttle values: {}\".format(len(dtfrm)))\n",
    "\n",
    "    dfT, dfV = train_test_split(dtfrm, test_size=0.3)\n",
    "\n",
    "    print(\"Number of Training samples: {}\".format(len(dfT)))\n",
    "    print(\"Number of Validation samples: {}\".format(len(dfV)))\n",
    "\n",
    "    BATCH_SIZE = 256\n",
    "\n",
    "    train_gen = generate_training_data_from_df(dfT, batch_size=BATCH_SIZE)\n",
    "    valid_gen = generate_validation_data_from_df(dfV)\n",
    "    \n",
    "    verify_image_generation_pipeline(dfT)\n",
    "    \n",
    "    history = model.fit_generator(train_gen, samples_per_epoch=BATCH_SIZE*100, validation_data=valid_gen, nb_epoch=8, nb_val_samples=BATCH_SIZE*8, verbose=1)\n",
    "\n",
    "    plot_loss(history)\n",
    "\n",
    "    print(\"Saving model weights and configuration file.\")\n",
    "\n",
    "    model.save(\"model.h5\")   \n",
    "    model.save_weights(\"model.keras\", True)\n",
    "    with open('model.json', 'w') as outfile:\n",
    "      json.dump(model.to_json(), outfile)\n",
    "    import gc; gc.collect()\n"
   ]
  },
  {
   "cell_type": "code",
   "execution_count": null,
   "metadata": {
    "collapsed": false
   },
   "outputs": [],
   "source": []
  },
  {
   "cell_type": "code",
   "execution_count": null,
   "metadata": {
    "collapsed": true
   },
   "outputs": [],
   "source": []
  }
 ],
 "metadata": {
  "anaconda-cloud": {},
  "kernelspec": {
   "display_name": "Python [default]",
   "language": "python",
   "name": "python3"
  },
  "language_info": {
   "codemirror_mode": {
    "name": "ipython",
    "version": 3
   },
   "file_extension": ".py",
   "mimetype": "text/x-python",
   "name": "python",
   "nbconvert_exporter": "python",
   "pygments_lexer": "ipython3",
   "version": "3.5.2"
  }
 },
 "nbformat": 4,
 "nbformat_minor": 0
}
